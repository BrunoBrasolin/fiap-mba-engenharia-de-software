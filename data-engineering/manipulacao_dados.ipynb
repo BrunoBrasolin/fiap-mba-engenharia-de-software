{
 "cells": [
  {
   "cell_type": "code",
   "execution_count": 0,
   "metadata": {
    "application/vnd.databricks.v1+cell": {
     "cellMetadata": {
      "byteLimit": 2048000,
      "rowLimit": 10000
     },
     "inputWidgets": {},
     "nuid": "c565e3fa-0520-4843-b2ad-9c546af44d1f",
     "showTitle": false,
     "tableResultSettingsMap": {},
     "title": ""
    }
   },
   "outputs": [
    {
     "name": "stdout",
     "output_type": "stream",
     "text": [
      "Out[1]: DataFrame[]"
     ]
    }
   ],
   "source": [
    "db = \"deltadb\"\n",
    "\n",
    "spark.sql(f\"CREATE DATABASE IF NOT EXISTS {db}\")\n",
    "spark.sql(f\"USE {db}\")"
   ]
  },
  {
   "cell_type": "code",
   "execution_count": 0,
   "metadata": {
    "application/vnd.databricks.v1+cell": {
     "cellMetadata": {
      "byteLimit": 2048000,
      "rowLimit": 10000
     },
     "inputWidgets": {},
     "nuid": "d0b47aa4-d264-4c4d-bce8-1c7e28cb4611",
     "showTitle": false,
     "tableResultSettingsMap": {},
     "title": ""
    }
   },
   "outputs": [],
   "source": [
    "import random\n",
    "from datetime import datetime\n",
    "from pyspark.sql.functions import udf, col, to_date\n",
    "from pyspark.sql.types import StringType, TimestampType\n",
    "from pyspark.sql import Row\n",
    "\n",
    "def my_checkpoint_dir(): \n",
    "  return \"/tmp/delta_demo/chkpt/%s\" % str(random.randint(0, 10000))\n",
    "\n",
    "@udf(returnType=StringType())\n",
    "def random_session():\n",
    "    return random.choice([\"sessao_#123\",\"sessao_#456\",\"sessao_#789\"])\n",
    "\n",
    "@udf(returnType=StringType())\n",
    "def random_ip():\n",
    "    return random.choice([\"123.221.14.56\",\"16.180.70.237\",\"10.182.189.79\", \"218.193.16.244\",\"198.122.118.164\"])\n",
    "\n",
    "@udf(returnType=StringType())\n",
    "def random_url():\n",
    "    return random.choice([\"/home\", \"/produtos\", \"/contato\", \"/sobre\", \"/carrinho\"])\n",
    "\n",
    "\n",
    "def generate_and_append_data_stream(table_format, table_name, schema_ok=False):\n",
    "    stream_data = (spark.readStream\n",
    "        .format(\"rate\")\n",
    "        .option(\"rowsPerSecond\", 500)\n",
    "        .load()\n",
    "        .withColumn(\"ip\",         random_ip())\n",
    "        .withColumn(\"pagina\",     random_url())\n",
    "        .withColumn(\"sessao\",     random_session())\n",
    "        .withColumn(\"data_acesso\", to_date(col(\"timestamp\")))\n",
    "    )\n",
    "\n",
    "    if schema_ok:\n",
    "      stream_data = stream_data.select(\"ip\", \"pagina\", \"sessao\", \"data_acesso\")\n",
    "\n",
    "    query = (stream_data.writeStream\n",
    "      .format(table_format)\n",
    "      .option(\"checkpointLocation\", my_checkpoint_dir())\n",
    "      .option(\"mergeSchema\", \"true\")\n",
    "      .trigger(processingTime = \"5 seconds\")\n",
    "      .table(table_name)\n",
    "    )\n",
    "\n",
    "    return query"
   ]
  },
  {
   "cell_type": "code",
   "execution_count": 0,
   "metadata": {
    "application/vnd.databricks.v1+cell": {
     "cellMetadata": {
      "byteLimit": 2048000,
      "rowLimit": 10000
     },
     "inputWidgets": {},
     "nuid": "a91291af-f48f-46de-b60a-f8e717a0f905",
     "showTitle": false,
     "tableResultSettingsMap": {},
     "title": ""
    }
   },
   "outputs": [],
   "source": [
    "def stop_all_streams():\n",
    "    print(\"Stopping all streams\")\n",
    "    for s in spark.streams.active:\n",
    "        try:\n",
    "            s.stop()\n",
    "        except:\n",
    "            pass\n",
    "    print(\"Stopped all streams\")\n",
    "    dbutils.fs.rm(\"/tmp/delta_demo/chkpt/\", True)\n",
    "\n",
    "\n",
    "def cleanup_paths_and_tables():\n",
    "    dbutils.fs.rm(\"/tmp/delta_demo/\", True)"
   ]
  },
  {
   "cell_type": "code",
   "execution_count": 0,
   "metadata": {
    "application/vnd.databricks.v1+cell": {
     "cellMetadata": {
      "byteLimit": 2048000,
      "implicitDf": true,
      "rowLimit": 10000
     },
     "inputWidgets": {},
     "nuid": "23afa541-359d-4ea0-9081-a4b3410bf7db",
     "showTitle": false,
     "tableResultSettingsMap": {},
     "title": ""
    }
   },
   "outputs": [
    {
     "data": {
      "text/html": [
       "<style scoped>\n",
       "  .table-result-container {\n",
       "    max-height: 300px;\n",
       "    overflow: auto;\n",
       "  }\n",
       "  table, th, td {\n",
       "    border: 1px solid black;\n",
       "    border-collapse: collapse;\n",
       "  }\n",
       "  th, td {\n",
       "    padding: 5px;\n",
       "  }\n",
       "  th {\n",
       "    text-align: left;\n",
       "  }\n",
       "</style><div class='table-result-container'><table class='table-result'><thead style='background-color: white'><tr></tr></thead><tbody></tbody></table></div>"
      ]
     },
     "metadata": {
      "application/vnd.databricks.v1+output": {
       "addedWidgets": {},
       "aggData": [],
       "aggError": "",
       "aggOverflow": false,
       "aggSchema": [],
       "aggSeriesLimitReached": false,
       "aggType": "",
       "arguments": {},
       "columnCustomDisplayInfos": {},
       "data": [],
       "datasetInfos": [],
       "dbfsResultPath": null,
       "isJsonSchema": true,
       "metadata": {},
       "overflow": false,
       "plotOptions": {
        "customPlotOptions": {},
        "displayType": "table",
        "pivotAggregation": null,
        "pivotColumns": null,
        "xColumns": null,
        "yColumns": null
       },
       "removedWidgets": [],
       "schema": [],
       "type": "table"
      }
     },
     "output_type": "display_data"
    }
   ],
   "source": [
    "%sql\n",
    "\n",
    "drop table log_sql;\n",
    "\n",
    "create table log_sql\n",
    "(ip string,\n",
    "sessao string,\n",
    "pagina string,\n",
    "data_acesso date);"
   ]
  },
  {
   "cell_type": "code",
   "execution_count": 0,
   "metadata": {
    "application/vnd.databricks.v1+cell": {
     "cellMetadata": {
      "byteLimit": 2048000,
      "implicitDf": true,
      "rowLimit": 10000
     },
     "inputWidgets": {},
     "nuid": "ac76e0c5-8e2f-4479-9a26-52fa2e9dc865",
     "showTitle": false,
     "tableResultSettingsMap": {},
     "title": ""
    }
   },
   "outputs": [
    {
     "data": {
      "text/html": [
       "<style scoped>\n",
       "  .table-result-container {\n",
       "    max-height: 300px;\n",
       "    overflow: auto;\n",
       "  }\n",
       "  table, th, td {\n",
       "    border: 1px solid black;\n",
       "    border-collapse: collapse;\n",
       "  }\n",
       "  th, td {\n",
       "    padding: 5px;\n",
       "  }\n",
       "  th {\n",
       "    text-align: left;\n",
       "  }\n",
       "</style><div class='table-result-container'><table class='table-result'><thead style='background-color: white'><tr><th>col_name</th><th>data_type</th><th>comment</th></tr></thead><tbody><tr><td>ip</td><td>string</td><td>null</td></tr><tr><td>sessao</td><td>string</td><td>null</td></tr><tr><td>pagina</td><td>string</td><td>null</td></tr><tr><td>data_acesso</td><td>date</td><td>null</td></tr></tbody></table></div>"
      ]
     },
     "metadata": {
      "application/vnd.databricks.v1+output": {
       "addedWidgets": {},
       "aggData": [],
       "aggError": "",
       "aggOverflow": false,
       "aggSchema": [],
       "aggSeriesLimitReached": false,
       "aggType": "",
       "arguments": {},
       "columnCustomDisplayInfos": {},
       "data": [
        [
         "ip",
         "string",
         null
        ],
        [
         "sessao",
         "string",
         null
        ],
        [
         "pagina",
         "string",
         null
        ],
        [
         "data_acesso",
         "date",
         null
        ]
       ],
       "datasetInfos": [],
       "dbfsResultPath": null,
       "isJsonSchema": true,
       "metadata": {},
       "overflow": false,
       "plotOptions": {
        "customPlotOptions": {},
        "displayType": "table",
        "pivotAggregation": null,
        "pivotColumns": null,
        "xColumns": null,
        "yColumns": null
       },
       "removedWidgets": [],
       "schema": [
        {
         "metadata": "{\"comment\":\"name of the column\"}",
         "name": "col_name",
         "type": "\"string\""
        },
        {
         "metadata": "{\"comment\":\"data type of the column\"}",
         "name": "data_type",
         "type": "\"string\""
        },
        {
         "metadata": "{\"comment\":\"comment of the column\"}",
         "name": "comment",
         "type": "\"string\""
        }
       ],
       "type": "table"
      }
     },
     "output_type": "display_data"
    }
   ],
   "source": [
    "%sql\n",
    "describe log_sql"
   ]
  },
  {
   "cell_type": "code",
   "execution_count": 0,
   "metadata": {
    "application/vnd.databricks.v1+cell": {
     "cellMetadata": {
      "byteLimit": 2048000,
      "rowLimit": 10000
     },
     "inputWidgets": {},
     "nuid": "82e3d8fa-1d55-4d0c-bd81-344079b8da7a",
     "showTitle": false,
     "tableResultSettingsMap": {},
     "title": ""
    }
   },
   "outputs": [],
   "source": [
    "stream_query_A = generate_and_append_data_stream(table_format=\"delta\", table_name=\"log_sql\", schema_ok=True)"
   ]
  },
  {
   "cell_type": "code",
   "execution_count": 0,
   "metadata": {
    "application/vnd.databricks.v1+cell": {
     "cellMetadata": {
      "byteLimit": 2048000,
      "rowLimit": 10000
     },
     "inputWidgets": {},
     "nuid": "fd82d7ee-6391-4e92-9d5b-d7d60ffc44c3",
     "showTitle": false,
     "tableResultSettingsMap": {},
     "title": ""
    }
   },
   "outputs": [],
   "source": [
    "display(spark.readStream.format(\"delta\").table(\"log_sql\"))"
   ]
  },
  {
   "cell_type": "code",
   "execution_count": 0,
   "metadata": {
    "application/vnd.databricks.v1+cell": {
     "cellMetadata": {
      "byteLimit": 2048000,
      "rowLimit": 10000
     },
     "inputWidgets": {},
     "nuid": "c317fd82-0b28-4c5f-886e-dccb94f1718e",
     "showTitle": false,
     "tableResultSettingsMap": {},
     "title": ""
    }
   },
   "outputs": [
    {
     "data": {
      "text/html": [
       "<style scoped>\n",
       "  .table-result-container {\n",
       "    max-height: 300px;\n",
       "    overflow: auto;\n",
       "  }\n",
       "  table, th, td {\n",
       "    border: 1px solid black;\n",
       "    border-collapse: collapse;\n",
       "  }\n",
       "  th, td {\n",
       "    padding: 5px;\n",
       "  }\n",
       "  th {\n",
       "    text-align: left;\n",
       "  }\n",
       "</style><div class='table-result-container'><table class='table-result'><thead style='background-color: white'><tr><th>sessao</th><th>qtd_paginas_distintas</th></tr></thead><tbody><tr><td>sessao_#123</td><td>5</td></tr><tr><td>sessao_#456</td><td>5</td></tr><tr><td>sessao_#789</td><td>5</td></tr></tbody></table></div>"
      ]
     },
     "metadata": {
      "application/vnd.databricks.v1+output": {
       "addedWidgets": {},
       "aggData": [],
       "aggError": "",
       "aggOverflow": false,
       "aggSchema": [],
       "aggSeriesLimitReached": false,
       "aggType": "",
       "arguments": {},
       "columnCustomDisplayInfos": {},
       "data": [
        [
         "sessao_#123",
         5
        ],
        [
         "sessao_#456",
         5
        ],
        [
         "sessao_#789",
         5
        ]
       ],
       "datasetInfos": [],
       "dbfsResultPath": null,
       "isJsonSchema": true,
       "metadata": {
        "isDbfsCommandResult": false
       },
       "overflow": false,
       "plotOptions": {
        "customPlotOptions": {},
        "displayType": "table",
        "pivotAggregation": null,
        "pivotColumns": null,
        "xColumns": null,
        "yColumns": null
       },
       "removedWidgets": [],
       "schema": [
        {
         "metadata": "{}",
         "name": "sessao",
         "type": "\"string\""
        },
        {
         "metadata": "{}",
         "name": "qtd_paginas_distintas",
         "type": "\"long\""
        }
       ],
       "type": "table"
      }
     },
     "output_type": "display_data"
    }
   ],
   "source": [
    "from pyspark.sql.functions import approx_count_distinct\n",
    "\n",
    "display(\n",
    "    spark.readStream\n",
    "        .format(\"delta\")\n",
    "        .table(\"log_sql\")\n",
    "        .groupBy(\"sessao\")\n",
    "        .agg(approx_count_distinct(\"pagina\").alias(\"qtd_paginas_distintas\"))\n",
    "        .orderBy(\"sessao\")\n",
    ")"
   ]
  },
  {
   "cell_type": "code",
   "execution_count": 0,
   "metadata": {
    "application/vnd.databricks.v1+cell": {
     "cellMetadata": {
      "byteLimit": 2048000,
      "rowLimit": 10000
     },
     "inputWidgets": {},
     "nuid": "d7e2e542-2ae1-4d81-9621-50c563f8b5ae",
     "showTitle": false,
     "tableResultSettingsMap": {},
     "title": ""
    }
   },
   "outputs": [
    {
     "name": "stdout",
     "output_type": "stream",
     "text": [
      "Stopping all streams\n",
      "Stopped all streams\n"
     ]
    }
   ],
   "source": [
    "stop_all_streams()"
   ]
  },
  {
   "cell_type": "code",
   "execution_count": 0,
   "metadata": {
    "application/vnd.databricks.v1+cell": {
     "cellMetadata": {
      "byteLimit": 2048000,
      "implicitDf": true,
      "rowLimit": 10000
     },
     "inputWidgets": {},
     "nuid": "dfdef1e1-6e69-46c4-94da-1a6120fc0238",
     "showTitle": false,
     "tableResultSettingsMap": {},
     "title": ""
    }
   },
   "outputs": [
    {
     "data": {
      "text/html": [
       "<style scoped>\n",
       "  .table-result-container {\n",
       "    max-height: 300px;\n",
       "    overflow: auto;\n",
       "  }\n",
       "  table, th, td {\n",
       "    border: 1px solid black;\n",
       "    border-collapse: collapse;\n",
       "  }\n",
       "  th, td {\n",
       "    padding: 5px;\n",
       "  }\n",
       "  th {\n",
       "    text-align: left;\n",
       "  }\n",
       "</style><div class='table-result-container'><table class='table-result'><thead style='background-color: white'><tr><th>sessao</th><th>qtd_paginas_distintas</th></tr></thead><tbody><tr><td>sessao_#123</td><td>5</td></tr><tr><td>sessao_#456</td><td>5</td></tr><tr><td>sessao_#789</td><td>5</td></tr></tbody></table></div>"
      ]
     },
     "metadata": {
      "application/vnd.databricks.v1+output": {
       "addedWidgets": {},
       "aggData": [],
       "aggError": "",
       "aggOverflow": false,
       "aggSchema": [],
       "aggSeriesLimitReached": false,
       "aggType": "",
       "arguments": {},
       "columnCustomDisplayInfos": {},
       "data": [
        [
         "sessao_#123",
         5
        ],
        [
         "sessao_#456",
         5
        ],
        [
         "sessao_#789",
         5
        ]
       ],
       "datasetInfos": [],
       "dbfsResultPath": null,
       "isJsonSchema": true,
       "metadata": {},
       "overflow": false,
       "plotOptions": {
        "customPlotOptions": {},
        "displayType": "table",
        "pivotAggregation": null,
        "pivotColumns": null,
        "xColumns": null,
        "yColumns": null
       },
       "removedWidgets": [],
       "schema": [
        {
         "metadata": "{}",
         "name": "sessao",
         "type": "\"string\""
        },
        {
         "metadata": "{}",
         "name": "qtd_paginas_distintas",
         "type": "\"long\""
        }
       ],
       "type": "table"
      }
     },
     "output_type": "display_data"
    }
   ],
   "source": [
    "%sql\n",
    "SELECT \n",
    "  sessao,\n",
    "  approx_count_distinct(pagina) AS qtd_paginas_distintas\n",
    "FROM log_sql\n",
    "GROUP BY sessao\n",
    "ORDER BY sessao;\n"
   ]
  }
 ],
 "metadata": {
  "application/vnd.databricks.v1+notebook": {
   "computePreferences": null,
   "dashboards": [],
   "environmentMetadata": {
    "base_environment": "",
    "environment_version": "1"
   },
   "inputWidgetPreferences": null,
   "language": "python",
   "notebookMetadata": {
    "mostRecentlyExecutedCommandWithImplicitDF": {
     "commandId": 1143442438092726,
     "dataframes": [
      "_sqldf"
     ]
    },
    "pythonIndentUnit": 4
   },
   "notebookName": "Untitled Notebook 2025-05-27 22:23:01",
   "widgets": {}
  },
  "language_info": {
   "name": "python"
  }
 },
 "nbformat": 4,
 "nbformat_minor": 0
}
